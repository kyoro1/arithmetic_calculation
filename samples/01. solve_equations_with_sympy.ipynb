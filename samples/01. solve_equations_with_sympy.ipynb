{
 "cells": [
  {
   "cell_type": "markdown",
   "metadata": {},
   "source": [
    "We'd like address to solve basic algebraic equation with `sympy` library in this Notebook. It provides us simple syntax to formulate the equation and solver with up to 4 degree. We cannot obtain the exact solution with 5 or more degree equations, as [Galois theory](https://en.wikipedia.org/wiki/Galois_theory#A_non-solvable_quintic_example) in general."
   ]
  },
  {
   "cell_type": "markdown",
   "metadata": {},
   "source": [
    "## 01-1. Linear equation\n",
    "\n",
    "We'd like to solve the following linear equation:\n",
    "$$\n",
    "3x + 1 = 7\n",
    "$$\n",
    "\n",
    "As our math teacher teach us as following operation:\n",
    "\n",
    "$$\n",
    "\\begin{align}\n",
    "3x &= 7 - 1 \\notag \\\\\n",
    "3x &= 6     \\notag \\\\\n",
    "x &= 2      \\notag \n",
    "\\end{align}\n",
    "$$\n",
    "\n",
    "We focus on getting the final solution $x=2$ from the initial equation $3x+1=7$. We use `sympy` library as follows.\n"
   ]
  },
  {
   "cell_type": "code",
   "execution_count": null,
   "metadata": {},
   "outputs": [],
   "source": [
    "## import necessary library at first\n",
    "import sympy"
   ]
  },
  {
   "cell_type": "code",
   "execution_count": null,
   "metadata": {},
   "outputs": [],
   "source": [
    "## Define variable.\n",
    "## In our case, we need only 1 variable `x`:\n",
    "sympy.var('x')\n",
    "\n",
    "## Set an equation to be solved.\n",
    "## We need to vary the formula like `equation = 0`.\n",
    "## In our case, `3x + 1 = 7` should be changed as `3 * x + 1 - 7 = 0`\n",
    "Sol1 = sympy.solve(3*x+1-7, x)"
   ]
  },
  {
   "cell_type": "code",
   "execution_count": null,
   "metadata": {},
   "outputs": [],
   "source": [
    "## print out the solution: x = 2\n",
    "print(Sol1)"
   ]
  },
  {
   "cell_type": "code",
   "execution_count": null,
   "metadata": {},
   "outputs": [],
   "source": [
    "## With this equation, we can use the following syntax:\n",
    "expression = 3*x+1-7\n",
    "sympy.solve(expression, x)"
   ]
  },
  {
   "cell_type": "markdown",
   "metadata": {},
   "source": [
    "If you succeed in solving the solution, how about changing the number of the equation and try to solve..?"
   ]
  },
  {
   "cell_type": "markdown",
   "metadata": {},
   "source": [
    "## 01-2. Systems of equations\n",
    "\n",
    "Next, we expand the numbers of the variables, that is systems of equations:\n",
    "\n",
    "$$\n",
    "  \\begin{cases}\n",
    "    \\begin{align}\n",
    "    3x + 2y &= 2 \\notag \\\\\n",
    "    5x - 9y &= 3 \\notag \n",
    "    \\end{align}\n",
    "  \\end{cases}\n",
    "$$"
   ]
  },
  {
   "cell_type": "code",
   "execution_count": null,
   "metadata": {},
   "outputs": [],
   "source": [
    "## Define 2 variables for the equation\n",
    "sympy.var('x, y')\n",
    "\n",
    "## Define the equations with defined variables\n",
    "expression_1 = 3 * x + 2 * y - 2\n",
    "expression_2 = 5 * x - 9 * y - 3\n",
    "\n",
    "## Solve the equations\n",
    "sympy.solve([expression_1, expression_2])"
   ]
  },
  {
   "cell_type": "markdown",
   "metadata": {},
   "source": [
    "## 01-3. Quadratic equation\n",
    "\n",
    "We'd like to pick up quadratic equation as follows:\n",
    "$$\n",
    "    x ^ 2 + 4 x + 3 = 0\n",
    "$$"
   ]
  },
  {
   "cell_type": "code",
   "execution_count": null,
   "metadata": {},
   "outputs": [],
   "source": [
    "## We need just one variable as previously\n",
    "sympy.var('x')\n",
    "\n",
    "## Define the equation:\n",
    "expression_q = x ** 2 + 4 * x + 3\n",
    "\n",
    "## Solve it!\n",
    "sympy.solve(expression_q)"
   ]
  },
  {
   "cell_type": "markdown",
   "metadata": {},
   "source": [
    "Let's try another equation, where we cannot find a solution with Real numbers:\n",
    "$ x ^ 2 + 1 = 0$\n",
    "\n",
    "Solution should be $\\sqrt{-1}, -\\sqrt{-1}$\n"
   ]
  },
  {
   "cell_type": "code",
   "execution_count": null,
   "metadata": {},
   "outputs": [],
   "source": [
    "expression_q = x ** 2 + 1\n",
    "\n",
    "## Solve it!\n",
    "sympy.solve(expression_q) # [-I, I]: Found imaginary numbers as expected!"
   ]
  },
  {
   "cell_type": "markdown",
   "metadata": {},
   "source": [
    "## 01-4. Qubic equation\n",
    "\n",
    "What's next? \n",
    "\n",
    "$$\n",
    "x^3 + 3x^2 + 5x -9=0\n",
    "$$\n",
    "\n",
    "Perhaps, just write a equation as quadratic equations ..?"
   ]
  },
  {
   "cell_type": "code",
   "execution_count": null,
   "metadata": {},
   "outputs": [],
   "source": [
    "expression_c = x ** 3 + 3 * x ** 2 + 5 * x - 9\n",
    "sympy.solve(expression_c)"
   ]
  },
  {
   "cell_type": "markdown",
   "metadata": {},
   "source": [
    "## 01-5. Quarantic equation\n",
    "\n",
    "Similarly, solve the equation!\n",
    "\n",
    "$$\n",
    "x^4 + 3x^3 -9x^2+7x-2=0\n",
    "$$\n"
   ]
  },
  {
   "cell_type": "code",
   "execution_count": null,
   "metadata": {},
   "outputs": [],
   "source": [
    "expression_qu = x**4 + 3 * x ** 3 -9 * x ** 2 +7 * x -2\n",
    "sympy.solve(expression_qu)"
   ]
  },
  {
   "cell_type": "markdown",
   "metadata": {},
   "source": [
    "## 01-6. Quintic equation\n",
    "\n",
    "As we noted, we cannot obtain the exact solution with quintic equation, but just try with `sympy` here.\n",
    "\n",
    "$$\n",
    "x^5 + 3 x + 1=0\n",
    "$$"
   ]
  },
  {
   "cell_type": "code",
   "execution_count": null,
   "metadata": {},
   "outputs": [],
   "source": [
    "expression_qu = x**5 + 3 * x + 1\n",
    "sympy.solve(expression_qu) ## Cannot solve ..."
   ]
  },
  {
   "cell_type": "code",
   "execution_count": null,
   "metadata": {},
   "outputs": [],
   "source": []
  }
 ],
 "metadata": {
  "kernelspec": {
   "display_name": "Python 3.10.8 64-bit (microsoft store)",
   "language": "python",
   "name": "python3"
  },
  "language_info": {
   "codemirror_mode": {
    "name": "ipython",
    "version": 3
   },
   "file_extension": ".py",
   "mimetype": "text/x-python",
   "name": "python",
   "nbconvert_exporter": "python",
   "pygments_lexer": "ipython3",
   "version": "3.10.8"
  },
  "orig_nbformat": 4,
  "vscode": {
   "interpreter": {
    "hash": "80c066d517303857fcde41efb6debf1674a518a3de8bba3eb00174674cf20e46"
   }
  }
 },
 "nbformat": 4,
 "nbformat_minor": 2
}
