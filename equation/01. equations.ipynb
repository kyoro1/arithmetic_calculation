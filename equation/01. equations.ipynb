{
 "cells": [
  {
   "cell_type": "markdown",
   "metadata": {},
   "source": [
    "## 01-1. Linear equation\n",
    "\n",
    "We'd like to solve the following linear equation:\n",
    "$$\n",
    "3x + 1 = 7\n",
    "$$\n",
    "\n",
    "As our math teacher teach us as following operation:\n",
    "\n",
    "$$\n",
    "\\begin{align}\n",
    "3x &= 7 - 1 \\\\\n",
    "3x &= 6     \\\\\n",
    "x &= 2\n",
    "\\end{align}\n",
    "$$\n",
    "\n",
    "We focus on getting the final solution $x=2$ from the initial equation $3x+1=7$. We use `sympy` library as follows.\n"
   ]
  },
  {
   "cell_type": "code",
   "execution_count": 3,
   "metadata": {},
   "outputs": [],
   "source": [
    "## import necessary library at first\n",
    "import sympy"
   ]
  },
  {
   "cell_type": "code",
   "execution_count": 4,
   "metadata": {},
   "outputs": [],
   "source": [
    "## Define variable.\n",
    "## In our case, we need only 1 variable `x`:\n",
    "sympy.var('x')\n",
    "\n",
    "## Set an equation to be solved.\n",
    "## We need to vary the formula like `equation = 0`.\n",
    "## In our case, `3x + 1 = 7` should be changed as `3 * x + 1 - 7 = 0`\n",
    "Sol1 = sympy.solve(3*x+1-7, x)"
   ]
  },
  {
   "cell_type": "code",
   "execution_count": 5,
   "metadata": {},
   "outputs": [
    {
     "name": "stdout",
     "output_type": "stream",
     "text": [
      "[2]\n"
     ]
    }
   ],
   "source": [
    "## print out the solution: x = 2\n",
    "print(Sol1)"
   ]
  },
  {
   "cell_type": "code",
   "execution_count": 6,
   "metadata": {},
   "outputs": [
    {
     "data": {
      "text/plain": [
       "[2]"
      ]
     },
     "execution_count": 6,
     "metadata": {},
     "output_type": "execute_result"
    }
   ],
   "source": [
    "## With this equation, we can use the following syntax:\n",
    "expression = 3*x+1-7\n",
    "sympy.solve(expression, x)"
   ]
  },
  {
   "cell_type": "markdown",
   "metadata": {},
   "source": [
    "## 01-2. systems of equations\n",
    "\n",
    "Next, we expand the numbers of the variables, that is systems of equations:\n",
    "\n",
    "$$\n",
    "  \\begin{cases}\n",
    "    \\begin{align}\n",
    "    3x + 2y &= 2 \\\\\n",
    "    5x - 9y &= 3\n",
    "    \\end{align}\n",
    "  \\end{cases}\n",
    "$$"
   ]
  },
  {
   "cell_type": "code",
   "execution_count": 12,
   "metadata": {},
   "outputs": [
    {
     "data": {
      "text/plain": [
       "{x: 24/37, y: 1/37}"
      ]
     },
     "execution_count": 12,
     "metadata": {},
     "output_type": "execute_result"
    }
   ],
   "source": [
    "## Define 2 variables for the equation\n",
    "sympy.var('x, y')\n",
    "\n",
    "## Define the equations with defined variables\n",
    "expression_1 = 3 * x + 2 * y - 2\n",
    "expression_2 = 5 * x - 9 * y - 3\n",
    "\n",
    "## Solve the equations\n",
    "sympy.solve([expression_1, expression_2])"
   ]
  },
  {
   "cell_type": "markdown",
   "metadata": {},
   "source": [
    "## 01-3. Quadratic equation\n",
    "\n",
    "We'd like to pick up quadratic equation as follows:\n",
    "$$\n",
    "    x ^ 2 + 4 x + 3 = 0\n",
    "$$"
   ]
  },
  {
   "cell_type": "code",
   "execution_count": 14,
   "metadata": {},
   "outputs": [
    {
     "data": {
      "text/plain": [
       "[-3, -1]"
      ]
     },
     "execution_count": 14,
     "metadata": {},
     "output_type": "execute_result"
    }
   ],
   "source": [
    "## We need just one variable to solve the simple quadratic equation\n",
    "sympy.var('x')\n",
    "\n",
    "## Define the equation:\n",
    "expression_q = x ** 2 + 4 * x + 3\n",
    "\n",
    "## Solve it!\n",
    "sympy.solve(expression_q)"
   ]
  },
  {
   "cell_type": "markdown",
   "metadata": {},
   "source": [
    "Let's try a equation, where we cannot find a solution with Real numbers:\n",
    "$ x ^ 2 + 1 = 0$\n"
   ]
  },
  {
   "cell_type": "code",
   "execution_count": 15,
   "metadata": {},
   "outputs": [
    {
     "data": {
      "text/plain": [
       "[-I, I]"
      ]
     },
     "execution_count": 15,
     "metadata": {},
     "output_type": "execute_result"
    }
   ],
   "source": [
    "## We need just one variable as previously\n",
    "sympy.var('x')\n",
    "\n",
    "## Define the equation:\n",
    "expression_q = x ** 2 + 1\n",
    "\n",
    "## Solve it!\n",
    "sympy.solve(expression_q) # [-I, I]: Found imaginary numbers!"
   ]
  },
  {
   "cell_type": "markdown",
   "metadata": {},
   "source": [
    "## 01-4. Qubic equation\n",
    "\n",
    "What's next? \n",
    "\n",
    "$$\n",
    "x^3 + 3x^2 + 5x -9=0\n",
    "$$\n",
    "\n",
    "Perhaps, just write a equation as quadratic equations ..?"
   ]
  },
  {
   "cell_type": "code",
   "execution_count": 16,
   "metadata": {},
   "outputs": [
    {
     "data": {
      "text/plain": [
       "[1, -2 - sqrt(5)*I, -2 + sqrt(5)*I]"
      ]
     },
     "execution_count": 16,
     "metadata": {},
     "output_type": "execute_result"
    }
   ],
   "source": [
    "## We need just one variable as previously\n",
    "sympy.var('x')\n",
    "\n",
    "## Define the equation:\n",
    "expression_c = x ** 3 + 3 * x ** 2 + 5 * x - 9\n",
    "\n",
    "## Solve it!\n",
    "sympy.solve(expression_c)"
   ]
  },
  {
   "cell_type": "markdown",
   "metadata": {},
   "source": [
    "To be continued"
   ]
  },
  {
   "cell_type": "markdown",
   "metadata": {},
   "source": []
  }
 ],
 "metadata": {
  "kernelspec": {
   "display_name": "Python 3.10.8 64-bit",
   "language": "python",
   "name": "python3"
  },
  "language_info": {
   "codemirror_mode": {
    "name": "ipython",
    "version": 3
   },
   "file_extension": ".py",
   "mimetype": "text/x-python",
   "name": "python",
   "nbconvert_exporter": "python",
   "pygments_lexer": "ipython3",
   "version": "3.10.8"
  },
  "orig_nbformat": 4,
  "vscode": {
   "interpreter": {
    "hash": "b0fa6594d8f4cbf19f97940f81e996739fb7646882a419484c72d19e05852a7e"
   }
  }
 },
 "nbformat": 4,
 "nbformat_minor": 2
}
