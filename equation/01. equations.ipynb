{
 "cells": [
  {
   "cell_type": "markdown",
   "metadata": {},
   "source": [
    "## 01. Linear equation\n",
    "\n",
    "We'd like to solve the following linear equation:\n",
    "$$\n",
    "3x + 1 = 7\n",
    "$$\n",
    "\n",
    "As our math teacher teach us as following operation:\n",
    "\n",
    "$$\n",
    "\\begin{align}\n",
    "3x &= 7 - 1 \\\\\n",
    "3x &= 6     \\\\\n",
    "x &= 2\n",
    "\\end{align}\n",
    "$$\n",
    "\n",
    "We focus on getting the final solution $x=2$ from the initial equation $3x+1=7$. We use `sympy` library as follows.\n"
   ]
  },
  {
   "cell_type": "code",
   "execution_count": 3,
   "metadata": {},
   "outputs": [],
   "source": [
    "## import necessary library at first\n",
    "import sympy"
   ]
  },
  {
   "cell_type": "code",
   "execution_count": 5,
   "metadata": {},
   "outputs": [],
   "source": [
    "## Define variable.\n",
    "## In our case, we need only 1 variable `x`:\n",
    "sympy.var('x')\n",
    "\n",
    "## Set an equation to be solved.\n",
    "## We need to vary the formula like `equation = 0`.\n",
    "## In our case, `3x + 1 = 7` should be changed as `3 * x + 1 - 7 = 0`\n",
    "Sol1 = sympy.solve(3*x+1-7, x)"
   ]
  },
  {
   "cell_type": "code",
   "execution_count": 6,
   "metadata": {},
   "outputs": [
    {
     "name": "stdout",
     "output_type": "stream",
     "text": [
      "[2]\n"
     ]
    }
   ],
   "source": [
    "## print out the solution: x = 2\n",
    "print(Sol1)"
   ]
  },
  {
   "cell_type": "markdown",
   "metadata": {},
   "source": [
    "To be continued"
   ]
  },
  {
   "cell_type": "markdown",
   "metadata": {},
   "source": []
  }
 ],
 "metadata": {
  "kernelspec": {
   "display_name": "Python 3.10.8 64-bit",
   "language": "python",
   "name": "python3"
  },
  "language_info": {
   "codemirror_mode": {
    "name": "ipython",
    "version": 3
   },
   "file_extension": ".py",
   "mimetype": "text/x-python",
   "name": "python",
   "nbconvert_exporter": "python",
   "pygments_lexer": "ipython3",
   "version": "3.10.8"
  },
  "orig_nbformat": 4,
  "vscode": {
   "interpreter": {
    "hash": "b0fa6594d8f4cbf19f97940f81e996739fb7646882a419484c72d19e05852a7e"
   }
  }
 },
 "nbformat": 4,
 "nbformat_minor": 2
}
