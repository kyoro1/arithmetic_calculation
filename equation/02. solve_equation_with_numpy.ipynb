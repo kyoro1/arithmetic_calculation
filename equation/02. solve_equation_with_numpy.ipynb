{
 "cells": [
  {
   "cell_type": "markdown",
   "metadata": {},
   "source": [
    "We cannot have the exact solution for Quintic equation with Galois theory in general. How about the approximate solution?\n",
    "`numpy` is the hero for that :)"
   ]
  },
  {
   "cell_type": "markdown",
   "metadata": {},
   "source": [
    "## 02-1. Linear equation to be solved approximately\n",
    "\n",
    "Firstly, we addressed a linear equation as follows.\n",
    "\n",
    "$$\n",
    "3x + 1 = 7\n",
    "$$\n",
    "\n",
    "Of course, we obtain the exact solution $x=2$ as discussed in `01-1`. We'd like to make sure how we get approximate solution with `numpy`."
   ]
  },
  {
   "cell_type": "code",
   "execution_count": null,
   "metadata": {},
   "outputs": [],
   "source": [
    "## Library import at first\n",
    "import numpy as np"
   ]
  },
  {
   "cell_type": "markdown",
   "metadata": {},
   "source": [
    "We use `np.roots` method to get the approximate solution for the above equation $3x-6$, which was derived from $3x+1-7(=3x-6)$."
   ]
  },
  {
   "cell_type": "code",
   "execution_count": null,
   "metadata": {},
   "outputs": [],
   "source": [
    "## We don't need to \n",
    "np.roots([3, -6])"
   ]
  },
  {
   "cell_type": "markdown",
   "metadata": {},
   "source": [
    "## 02-1. Quadratic equation"
   ]
  },
  {
   "cell_type": "markdown",
   "metadata": {},
   "source": [
    "In general, we can express a polynomial equation as follows:\n",
    "$$\n",
    "a_1 x^n + a_2x^{n-1} + \\ldots + a_{n-1}x + a_n = 0, where \\ a_i \\in \\mathbb{C}\n",
    "$$\n",
    "\n",
    "We can  get approximate solution with the following notation:\n",
    "```py\n",
    "np.roots([a_1, a_2, ..., a_{n-1}, a_n])\n",
    "```\n"
   ]
  },
  {
   "cell_type": "code",
   "execution_count": null,
   "metadata": {},
   "outputs": [],
   "source": [
    "## How about $2x+3=0$?\n",
    "np.roots([2, 3]) #array([-1.5]), i.e. we get the solution with decimal"
   ]
  },
  {
   "cell_type": "code",
   "execution_count": null,
   "metadata": {},
   "outputs": [],
   "source": [
    "## How about using `sympy`?\n",
    "import sympy as sp\n",
    "sp.var('x')\n",
    "sp.solve(2 * x + 3, x) ## We get the exact solution with fraction [-3/2]"
   ]
  },
  {
   "cell_type": "markdown",
   "metadata": {},
   "source": [
    "We cannot find rational solution for the equation:\n",
    "\n",
    "$$\n",
    "x^2 -2 =0\n",
    "$$\n",
    "\n",
    "We express it as $\\sqrt{2}, -\\sqrt{2}$, as we studied it in junior high school :) How to express this situation with `numpy`?"
   ]
  },
  {
   "cell_type": "code",
   "execution_count": null,
   "metadata": {},
   "outputs": [],
   "source": [
    "## Solve a quadratic equation!\n",
    "np.roots([1, 0, -2])"
   ]
  },
  {
   "cell_type": "code",
   "execution_count": null,
   "metadata": {},
   "outputs": [],
   "source": [
    "## Then how about imarinary number \\sqrt{-1}?\n",
    "np.roots([1, 0, 1])"
   ]
  },
  {
   "cell_type": "markdown",
   "metadata": {},
   "source": [
    "`numpy` seems to use `j` for $\\sqrt{-1}$, i.e. imaginary number."
   ]
  },
  {
   "cell_type": "markdown",
   "metadata": {},
   "source": [
    "## 02-2. Practice with Quadratic equation, Qubic equation\n",
    "\n",
    "With `np.roots` algorithm, the following examples are just easy quiz, aren't they?\n",
    "\n",
    "$$\n",
    "x^3 + 3x^2 + 5x -9=0\n",
    "$$"
   ]
  },
  {
   "cell_type": "code",
   "execution_count": null,
   "metadata": {},
   "outputs": [],
   "source": [
    "np.roots([1, 3, 5, -9])"
   ]
  },
  {
   "cell_type": "markdown",
   "metadata": {},
   "source": [
    "$$\n",
    "x^4 + 3x^3 -9x^2+7x-2=0\n",
    "$$"
   ]
  },
  {
   "cell_type": "code",
   "execution_count": null,
   "metadata": {},
   "outputs": [],
   "source": [
    "np.roots([1, 3, -9, 7, -2])"
   ]
  },
  {
   "cell_type": "markdown",
   "metadata": {},
   "source": [
    "## 02-3. Let's challenge Quintic equation!\n",
    "\n",
    "We couldn't get the exact solution with `sympy` ever. How about the approximate solution?\n",
    "\n",
    "$$\n",
    "x^5 + 3 x + 1=0\n",
    "$$"
   ]
  },
  {
   "cell_type": "code",
   "execution_count": null,
   "metadata": {},
   "outputs": [],
   "source": [
    "np.roots([1, 0, 0, 0, 3, 1])"
   ]
  }
 ],
 "metadata": {
  "kernelspec": {
   "display_name": "Python 3.10.8 64-bit (microsoft store)",
   "language": "python",
   "name": "python3"
  },
  "language_info": {
   "codemirror_mode": {
    "name": "ipython",
    "version": 3
   },
   "file_extension": ".py",
   "mimetype": "text/x-python",
   "name": "python",
   "nbconvert_exporter": "python",
   "pygments_lexer": "ipython3",
   "version": "3.10.8"
  },
  "orig_nbformat": 4,
  "vscode": {
   "interpreter": {
    "hash": "80c066d517303857fcde41efb6debf1674a518a3de8bba3eb00174674cf20e46"
   }
  }
 },
 "nbformat": 4,
 "nbformat_minor": 2
}
